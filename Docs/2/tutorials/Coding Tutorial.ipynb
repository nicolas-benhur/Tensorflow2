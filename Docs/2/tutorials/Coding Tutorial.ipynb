{
 "cells": [
  {
   "cell_type": "code",
   "execution_count": 1,
   "metadata": {},
   "outputs": [
    {
     "name": "stdout",
     "output_type": "stream",
     "text": [
      "2.0.0\n"
     ]
    }
   ],
   "source": [
    "import tensorflow as tf\n",
    "print(tf.__version__)"
   ]
  },
  {
   "cell_type": "markdown",
   "metadata": {},
   "source": [
    "# The Sequential model API"
   ]
  },
  {
   "cell_type": "markdown",
   "metadata": {},
   "source": [
    " ## Coding tutorials\n",
    " #### [1. Building a Sequential model](#coding_tutorial_1)\n",
    " #### [2. Convolutional and pooling layers](#coding_tutorial_2)\n",
    " #### [3. The compile method](#coding_tutorial_3)\n",
    " #### [4. The fit method](#coding_tutorial_4)\n",
    " #### [5. The evaluate and predict methods](#coding_tutorial_5)"
   ]
  },
  {
   "cell_type": "markdown",
   "metadata": {},
   "source": [
    "***\n",
    "<a id=\"coding_tutorial_1\"></a>\n",
    "## Building a Sequential model"
   ]
  },
  {
   "cell_type": "code",
   "execution_count": 2,
   "metadata": {},
   "outputs": [],
   "source": [
    "from tensorflow.keras.models import Sequential\n",
    "from tensorflow.keras.layers import Dense, Flatten, Softmax"
   ]
  },
  {
   "cell_type": "markdown",
   "metadata": {},
   "source": [
    "#### Build a feedforward neural network model"
   ]
  },
  {
   "cell_type": "code",
   "execution_count": 3,
   "metadata": {},
   "outputs": [],
   "source": [
    "# Build the Sequential feedforward neural network model\n",
    "\n",
    "model = Sequential([\n",
    "    Flatten(input_shape = (28,28)),\n",
    "    Dense(16,activation = 'relu'),\n",
    "    Dense(16,activation = 'relu'),\n",
    "    Dense(16,activation = 'softmax')\n",
    "])\n"
   ]
  },
  {
   "cell_type": "code",
   "execution_count": 4,
   "metadata": {},
   "outputs": [
    {
     "data": {
      "text/plain": [
       "[<tf.Variable 'dense/kernel:0' shape=(784, 16) dtype=float32, numpy=\n",
       " array([[-0.05148299,  0.07173456, -0.04852287, ..., -0.01182786,\n",
       "         -0.00572202, -0.05998391],\n",
       "        [ 0.04463352,  0.06344453,  0.07009083, ...,  0.00454658,\n",
       "         -0.07725326,  0.03145711],\n",
       "        [-0.04884576, -0.00523999, -0.02408392, ...,  0.04757808,\n",
       "          0.02395219, -0.01325447],\n",
       "        ...,\n",
       "        [ 0.0470784 , -0.07011524,  0.0023764 , ...,  0.05207077,\n",
       "         -0.04050727,  0.01678481],\n",
       "        [ 0.03942758,  0.06451006,  0.07236236, ..., -0.01166111,\n",
       "         -0.04253419, -0.01403322],\n",
       "        [-0.05132503, -0.01717544, -0.07755277, ..., -0.06276274,\n",
       "          0.03122877,  0.03105374]], dtype=float32)>,\n",
       " <tf.Variable 'dense/bias:0' shape=(16,) dtype=float32, numpy=\n",
       " array([0., 0., 0., 0., 0., 0., 0., 0., 0., 0., 0., 0., 0., 0., 0., 0.],\n",
       "       dtype=float32)>,\n",
       " <tf.Variable 'dense_1/kernel:0' shape=(16, 16) dtype=float32, numpy=\n",
       " array([[ 0.3635476 , -0.2181211 ,  0.40482298,  0.35469255,  0.17207488,\n",
       "         -0.06622559, -0.02759755,  0.34362552,  0.07770559, -0.23605235,\n",
       "         -0.2762769 ,  0.09113905, -0.29957712, -0.24268746, -0.08561879,\n",
       "         -0.11201796],\n",
       "        [-0.00756696,  0.3754175 ,  0.16773835, -0.08949581,  0.00425774,\n",
       "          0.05178916, -0.2933969 , -0.14732608, -0.3426852 , -0.17641437,\n",
       "          0.37569532,  0.09567711,  0.13869378, -0.16538006,  0.04368806,\n",
       "         -0.2115092 ],\n",
       "        [-0.14715967,  0.15326288, -0.1406    ,  0.29636154,  0.15478513,\n",
       "          0.2821695 ,  0.00385305, -0.07671657, -0.20623538, -0.2179746 ,\n",
       "         -0.31361145, -0.36640438,  0.14064708,  0.01364088, -0.02561331,\n",
       "         -0.10062811],\n",
       "        [-0.3687918 , -0.2052414 ,  0.3238823 ,  0.21684024,  0.18198016,\n",
       "          0.2826886 ,  0.10926792, -0.42221582, -0.1645742 ,  0.22608224,\n",
       "          0.18360242,  0.01069054, -0.14220256, -0.3379857 , -0.2735169 ,\n",
       "         -0.35450834],\n",
       "        [-0.01859951, -0.2608318 ,  0.21180227, -0.09986237, -0.05070093,\n",
       "          0.29848805,  0.22936901, -0.2667657 , -0.20875253, -0.13633367,\n",
       "         -0.35318774,  0.0605889 , -0.4051522 , -0.40034378, -0.11728054,\n",
       "         -0.3929488 ],\n",
       "        [-0.00333336,  0.1942524 , -0.0554598 ,  0.11289427,  0.13008717,\n",
       "          0.04971564,  0.23285535, -0.12334806,  0.41302058,  0.37124327,\n",
       "         -0.12089232,  0.30752072,  0.26920554,  0.3553039 ,  0.31863222,\n",
       "         -0.32472524],\n",
       "        [-0.11333239,  0.02020064, -0.20756303,  0.00690582,  0.17622575,\n",
       "          0.34575012, -0.01382238,  0.12969992,  0.37647113,  0.35551998,\n",
       "         -0.25706   , -0.10628369,  0.4099975 , -0.05501476, -0.39810008,\n",
       "          0.20967588],\n",
       "        [ 0.3288549 , -0.05312529, -0.04815921,  0.15910515, -0.06720141,\n",
       "          0.34204933, -0.33429316,  0.09448364,  0.08069691,  0.3295541 ,\n",
       "          0.10239306,  0.18588969, -0.28970164,  0.00439155, -0.06755769,\n",
       "          0.1011503 ],\n",
       "        [ 0.24317071,  0.20764014, -0.02167943, -0.04908732, -0.00716639,\n",
       "          0.3200886 ,  0.33275458,  0.00403714,  0.07280144,  0.24316403,\n",
       "         -0.25029105,  0.31923017,  0.08862314,  0.25332597,  0.11525252,\n",
       "          0.22878769],\n",
       "        [ 0.29845634,  0.32554743,  0.3410379 ,  0.11506048, -0.33884007,\n",
       "          0.02440852, -0.33896035, -0.17310736,  0.2608755 , -0.15740037,\n",
       "          0.22344384, -0.04664141, -0.17382765,  0.14830032,  0.23424515,\n",
       "         -0.3493259 ],\n",
       "        [ 0.13927546,  0.08321521, -0.31556988,  0.3215864 ,  0.23680815,\n",
       "         -0.20801862,  0.28123817,  0.36942884,  0.1134375 ,  0.06016356,\n",
       "         -0.37542948, -0.15127411, -0.11275116,  0.17935833, -0.32498604,\n",
       "         -0.2576083 ],\n",
       "        [ 0.33840153, -0.09938377, -0.35446882,  0.39491996, -0.03049555,\n",
       "         -0.2785194 ,  0.25328293,  0.41941324,  0.06563559,  0.16134694,\n",
       "         -0.322384  ,  0.13193533,  0.27853003,  0.34791163,  0.00448251,\n",
       "         -0.36482754],\n",
       "        [-0.23527217, -0.20929877,  0.12468383, -0.38566443, -0.29596263,\n",
       "          0.03989127, -0.33438307,  0.24173716, -0.2634946 , -0.35082915,\n",
       "          0.19206735,  0.06434739,  0.32945904, -0.17702937,  0.16410682,\n",
       "         -0.16292632],\n",
       "        [-0.3621642 , -0.39226404,  0.34479764,  0.41603372,  0.38159356,\n",
       "         -0.38447738, -0.16803133,  0.04750407,  0.23608395,  0.3456634 ,\n",
       "         -0.35700816, -0.10201067, -0.12902153, -0.15683556, -0.01189294,\n",
       "          0.3535318 ],\n",
       "        [ 0.18364665, -0.12955835,  0.25085083, -0.2001471 ,  0.05313766,\n",
       "         -0.03033936,  0.4106299 ,  0.32226786,  0.3750294 ,  0.3318716 ,\n",
       "          0.37065348,  0.2939531 , -0.30919057, -0.38385332, -0.2984319 ,\n",
       "          0.32123318],\n",
       "        [ 0.22504011, -0.41825622,  0.42979375,  0.1702781 , -0.17030403,\n",
       "         -0.32584137, -0.38626394,  0.08668825,  0.0077886 , -0.2423345 ,\n",
       "         -0.0055474 ,  0.25890824, -0.0562785 ,  0.27527484,  0.3902969 ,\n",
       "         -0.19135338]], dtype=float32)>,\n",
       " <tf.Variable 'dense_1/bias:0' shape=(16,) dtype=float32, numpy=\n",
       " array([0., 0., 0., 0., 0., 0., 0., 0., 0., 0., 0., 0., 0., 0., 0., 0.],\n",
       "       dtype=float32)>,\n",
       " <tf.Variable 'dense_2/kernel:0' shape=(16, 16) dtype=float32, numpy=\n",
       " array([[ 0.13701156, -0.25359076,  0.1261557 , -0.19212632,  0.14594898,\n",
       "         -0.2939912 , -0.27875644, -0.16353396, -0.1826669 , -0.4111713 ,\n",
       "          0.21970645, -0.23805   , -0.32913992, -0.35799554,  0.0451144 ,\n",
       "          0.01125473],\n",
       "        [ 0.13544717,  0.09327576,  0.07230458, -0.14473984, -0.2259161 ,\n",
       "          0.03221819,  0.40109   , -0.38097018,  0.340883  ,  0.23465142,\n",
       "          0.38180158,  0.1386269 , -0.17399725,  0.24769887,  0.42421886,\n",
       "          0.24832508],\n",
       "        [-0.25078383, -0.07788894, -0.1669653 ,  0.2132372 , -0.04773954,\n",
       "         -0.09451845,  0.10513023,  0.26040468,  0.3995671 , -0.06590453,\n",
       "          0.2879738 , -0.25084114,  0.35838136,  0.14071622,  0.25427648,\n",
       "          0.23033533],\n",
       "        [-0.2805976 ,  0.08619902, -0.11726865,  0.32689902, -0.17361745,\n",
       "          0.36252937, -0.37320417,  0.20072731, -0.13243261, -0.09821025,\n",
       "         -0.03707317, -0.13780627, -0.20119704,  0.21849844, -0.08241397,\n",
       "         -0.04814929],\n",
       "        [-0.15637976, -0.23062429, -0.20333293, -0.11679706,  0.34095535,\n",
       "         -0.35987437, -0.10827258,  0.0099408 ,  0.0219216 , -0.29313463,\n",
       "         -0.3291002 , -0.17172882,  0.14029506,  0.41413394,  0.28634146,\n",
       "         -0.29169396],\n",
       "        [ 0.35076204,  0.1847069 ,  0.21928862, -0.01975176,  0.07197526,\n",
       "         -0.1976187 ,  0.2665507 , -0.19116166, -0.03609487,  0.4023815 ,\n",
       "         -0.20234948, -0.27238014,  0.33609888,  0.32301477, -0.02933618,\n",
       "         -0.01185402],\n",
       "        [ 0.1520991 , -0.03951165,  0.2302672 , -0.3969564 , -0.06518009,\n",
       "          0.25858727, -0.32275897, -0.1449171 ,  0.11425957,  0.21955332,\n",
       "          0.1801106 ,  0.02646494, -0.3251249 ,  0.20253316,  0.03428924,\n",
       "          0.43091354],\n",
       "        [ 0.27766111,  0.06363049, -0.40726507, -0.0289188 ,  0.13511279,\n",
       "         -0.41416088, -0.2877394 , -0.26484197, -0.2815318 , -0.34315306,\n",
       "         -0.09488484, -0.38472703, -0.23907228,  0.2674956 , -0.16929322,\n",
       "          0.09015986],\n",
       "        [ 0.20824489,  0.32306984,  0.29061863,  0.354723  , -0.39557695,\n",
       "         -0.12993094,  0.08082309,  0.2874548 ,  0.21701524, -0.0416652 ,\n",
       "         -0.25257438,  0.13743028, -0.19917832, -0.10194409, -0.26596576,\n",
       "          0.2888328 ],\n",
       "        [ 0.03641111,  0.40534183,  0.05988243,  0.2909265 , -0.04781646,\n",
       "          0.24589816, -0.08329779,  0.2271631 , -0.28285283, -0.38890475,\n",
       "          0.13485828, -0.04636028,  0.43210635, -0.14184442,  0.21260974,\n",
       "          0.06814304],\n",
       "        [-0.18238899, -0.08200577,  0.0111292 , -0.06071246,  0.11262193,\n",
       "          0.14362445, -0.42867288, -0.3105557 ,  0.33558962,  0.17655054,\n",
       "         -0.23855907, -0.16476706,  0.05158755, -0.01910827, -0.38048103,\n",
       "          0.24654827],\n",
       "        [ 0.38317928,  0.43259445, -0.33178914, -0.29362926, -0.31870264,\n",
       "          0.19435939, -0.2800373 , -0.3041767 , -0.00929764, -0.05271614,\n",
       "         -0.24430355, -0.4085355 ,  0.15417895, -0.39609396,  0.37601754,\n",
       "          0.03586963],\n",
       "        [-0.04590696,  0.19022372, -0.43108854,  0.39981207,  0.08843723,\n",
       "          0.12752602, -0.3585079 ,  0.0010204 ,  0.07101163, -0.2405939 ,\n",
       "         -0.01900059,  0.19763675, -0.00266096, -0.03226608,  0.26177058,\n",
       "          0.13139829],\n",
       "        [ 0.19995931, -0.30866963, -0.08684301,  0.00415215,  0.09682378,\n",
       "          0.41068926, -0.02723044, -0.29069677,  0.17255935,  0.27968726,\n",
       "          0.3622038 , -0.2249756 ,  0.1770747 ,  0.19933274, -0.15120813,\n",
       "         -0.12919661],\n",
       "        [-0.30456758, -0.24617496, -0.29710168, -0.01215228, -0.18436353,\n",
       "         -0.04955065,  0.08190772, -0.0550487 ,  0.04461813,  0.11170837,\n",
       "         -0.35368866,  0.04931033,  0.25832024, -0.07511607,  0.1823673 ,\n",
       "          0.30936244],\n",
       "        [ 0.17123821,  0.2864857 , -0.33818102,  0.06644303,  0.19477478,\n",
       "          0.3876979 , -0.27679595,  0.00886869,  0.2656497 , -0.29150492,\n",
       "         -0.09371835, -0.39114326,  0.30406985,  0.08957645, -0.12442112,\n",
       "          0.27205792]], dtype=float32)>,\n",
       " <tf.Variable 'dense_2/bias:0' shape=(16,) dtype=float32, numpy=\n",
       " array([0., 0., 0., 0., 0., 0., 0., 0., 0., 0., 0., 0., 0., 0., 0., 0.],\n",
       "       dtype=float32)>]"
      ]
     },
     "execution_count": 4,
     "metadata": {},
     "output_type": "execute_result"
    }
   ],
   "source": [
    "# Print the model summary\n",
    "\n",
    "model.weights"
   ]
  },
  {
   "cell_type": "code",
   "execution_count": 5,
   "metadata": {},
   "outputs": [
    {
     "name": "stdout",
     "output_type": "stream",
     "text": [
      "Model: \"sequential\"\n",
      "_________________________________________________________________\n",
      "Layer (type)                 Output Shape              Param #   \n",
      "=================================================================\n",
      "flatten (Flatten)            (None, 784)               0         \n",
      "_________________________________________________________________\n",
      "dense (Dense)                (None, 16)                12560     \n",
      "_________________________________________________________________\n",
      "dense_1 (Dense)              (None, 16)                272       \n",
      "_________________________________________________________________\n",
      "dense_2 (Dense)              (None, 16)                272       \n",
      "=================================================================\n",
      "Total params: 13,104\n",
      "Trainable params: 13,104\n",
      "Non-trainable params: 0\n",
      "_________________________________________________________________\n"
     ]
    }
   ],
   "source": [
    "model.summary()"
   ]
  },
  {
   "cell_type": "markdown",
   "metadata": {},
   "source": [
    "***\n",
    "<a id=\"coding_tutorial_2\"></a>\n",
    "## Convolutional and pooling layers"
   ]
  },
  {
   "cell_type": "code",
   "execution_count": 6,
   "metadata": {},
   "outputs": [],
   "source": [
    "from tensorflow.keras.models import Sequential\n",
    "from tensorflow.keras.layers import Dense, Flatten, Conv2D, MaxPooling2D"
   ]
  },
  {
   "cell_type": "markdown",
   "metadata": {},
   "source": [
    "#### Build a convolutional neural network model"
   ]
  },
  {
   "cell_type": "code",
   "execution_count": 7,
   "metadata": {},
   "outputs": [],
   "source": [
    "# Build the Sequential convolutional neural network model\n",
    "\n",
    "model = Sequential([\n",
    "    Conv2D(16, (3,3), activation = 'relu', input_shape = (28,28,1)),\n",
    "    MaxPooling2D((3,3)),\n",
    "    Flatten(),\n",
    "    Dense(10, activation = 'softmax')\n",
    "])"
   ]
  },
  {
   "cell_type": "code",
   "execution_count": 8,
   "metadata": {},
   "outputs": [
    {
     "name": "stdout",
     "output_type": "stream",
     "text": [
      "Model: \"sequential_1\"\n",
      "_________________________________________________________________\n",
      "Layer (type)                 Output Shape              Param #   \n",
      "=================================================================\n",
      "conv2d (Conv2D)              (None, 26, 26, 16)        160       \n",
      "_________________________________________________________________\n",
      "max_pooling2d (MaxPooling2D) (None, 8, 8, 16)          0         \n",
      "_________________________________________________________________\n",
      "flatten_1 (Flatten)          (None, 1024)              0         \n",
      "_________________________________________________________________\n",
      "dense_3 (Dense)              (None, 10)                10250     \n",
      "=================================================================\n",
      "Total params: 10,410\n",
      "Trainable params: 10,410\n",
      "Non-trainable params: 0\n",
      "_________________________________________________________________\n"
     ]
    }
   ],
   "source": [
    "# Print the model summary\n",
    "\n",
    "model.summary()"
   ]
  },
  {
   "cell_type": "markdown",
   "metadata": {},
   "source": [
    "***\n",
    "<a id=\"coding_tutorial_3\"></a>\n",
    "## The compile method"
   ]
  },
  {
   "cell_type": "markdown",
   "metadata": {},
   "source": [
    "#### Compile the model"
   ]
  },
  {
   "cell_type": "code",
   "execution_count": 9,
   "metadata": {},
   "outputs": [],
   "source": [
    "# Define the model optimizer, loss function and metrics\n",
    "\n",
    "model.compile(\n",
    "    optimizer = 'sgd',\n",
    "    loss      = 'categorical_crossentropy',\n",
    "    metrics   = ['accuracy','mae'])"
   ]
  },
  {
   "cell_type": "code",
   "execution_count": 10,
   "metadata": {},
   "outputs": [],
   "source": [
    "# Other way to define\n",
    "opt = tf.keras.optimizers.Adam(learning_rate=0.005)\n",
    "acc = tf.keras.metrics.SparseCategoricalAccuracy()\n",
    "mae = tf.keras.metrics.MeanAbsoluteError()\n",
    "\n",
    "model.compile(\n",
    "    optimizer = opt,\n",
    "    loss      = 'sparse_categorical_crossentropy',\n",
    "    metrics   = [acc,mae])"
   ]
  },
  {
   "cell_type": "code",
   "execution_count": 11,
   "metadata": {},
   "outputs": [
    {
     "name": "stdout",
     "output_type": "stream",
     "text": [
      "<tensorflow.python.keras.optimizer_v2.adam.Adam object at 0x7f66b822a630>\n",
      "sparse_categorical_crossentropy\n",
      "[<tensorflow.python.keras.metrics.SparseCategoricalAccuracy object at 0x7f66b822aef0>, <tensorflow.python.keras.metrics.MeanAbsoluteError object at 0x7f66b822a048>]\n",
      "<tf.Variable 'learning_rate:0' shape=() dtype=float32, numpy=0.005>\n"
     ]
    }
   ],
   "source": [
    "# Print the resulting model attributes\n",
    "\n",
    "print(model.optimizer)\n",
    "print(model.loss)\n",
    "print(model.metrics)\n",
    "print(model.optimizer.lr)"
   ]
  },
  {
   "cell_type": "markdown",
   "metadata": {},
   "source": [
    "***\n",
    "<a id=\"coding_tutorial_4\"></a>\n",
    "## The fit method"
   ]
  },
  {
   "cell_type": "code",
   "execution_count": 12,
   "metadata": {},
   "outputs": [],
   "source": [
    "from tensorflow.keras.preprocessing import image\n",
    "import matplotlib.pyplot as plt\n",
    "import numpy as np\n",
    "import pandas as pd"
   ]
  },
  {
   "cell_type": "markdown",
   "metadata": {},
   "source": [
    "#### Load the data"
   ]
  },
  {
   "cell_type": "code",
   "execution_count": 13,
   "metadata": {},
   "outputs": [
    {
     "name": "stdout",
     "output_type": "stream",
     "text": [
      "Downloading data from https://storage.googleapis.com/tensorflow/tf-keras-datasets/train-labels-idx1-ubyte.gz\n",
      "32768/29515 [=================================] - 0s 0us/step\n",
      "Downloading data from https://storage.googleapis.com/tensorflow/tf-keras-datasets/train-images-idx3-ubyte.gz\n",
      "26427392/26421880 [==============================] - 0s 0us/step\n",
      "Downloading data from https://storage.googleapis.com/tensorflow/tf-keras-datasets/t10k-labels-idx1-ubyte.gz\n",
      "8192/5148 [===============================================] - 0s 0us/step\n",
      "Downloading data from https://storage.googleapis.com/tensorflow/tf-keras-datasets/t10k-images-idx3-ubyte.gz\n",
      "4423680/4422102 [==============================] - 0s 0us/step\n"
     ]
    }
   ],
   "source": [
    "# Load the Fashion-MNIST dataset\n",
    "\n",
    "fashion_mnist_data = tf.keras.datasets.fashion_mnist\n",
    "(train_images, train_labels), (test_images, test_labels) = fashion_mnist_data.load_data()"
   ]
  },
  {
   "cell_type": "code",
   "execution_count": 14,
   "metadata": {},
   "outputs": [
    {
     "data": {
      "text/plain": [
       "(60000, 28, 28)"
      ]
     },
     "execution_count": 14,
     "metadata": {},
     "output_type": "execute_result"
    }
   ],
   "source": [
    "# Print the shape of the training data\n",
    "\n",
    "train_images.shape"
   ]
  },
  {
   "cell_type": "code",
   "execution_count": 15,
   "metadata": {},
   "outputs": [],
   "source": [
    "# Define the labels\n",
    "\n",
    "labels = [\n",
    "    'T-shirt/top',\n",
    "    'Trouser',\n",
    "    'Pullover',\n",
    "    'Dress',\n",
    "    'Coat',\n",
    "    'Sandal',\n",
    "    'Shirt',\n",
    "    'Sneaker',\n",
    "    'Bag',\n",
    "    'Ankle boot'\n",
    "]"
   ]
  },
  {
   "cell_type": "code",
   "execution_count": 16,
   "metadata": {},
   "outputs": [],
   "source": [
    "# Rescale the image values so that they lie in between 0 and 1.\n",
    "\n",
    "train_images = train_images / 255.\n",
    "test_images = test_images / 255."
   ]
  },
  {
   "cell_type": "code",
   "execution_count": 17,
   "metadata": {},
   "outputs": [
    {
     "name": "stdout",
     "output_type": "stream",
     "text": [
      "label: T-shirt/top\n"
     ]
    },
    {
     "data": {
      "image/png": "[encoded data removed]",
      "text/plain": [
       "<Figure size 432x288 with 1 Axes>"
      ]
     },
     "metadata": {
      "needs_background": "light"
     },
     "output_type": "display_data"
    }
   ],
   "source": [
    "# Display some of the images\n",
    "\n",
    "import time\n",
    "from IPython.display import clear_output\n",
    "\n",
    "for i in range(10,18):\n",
    "    \n",
    "    img = train_images[i,:,:]\n",
    "    plt.imshow(img)\n",
    "        \n",
    "    clear_output(wait= True)\n",
    "    print(f'label: {labels[train_labels[i]]}')\n",
    "    plt.show()\n",
    "    time.sleep(0.5)"
   ]
  },
  {
   "cell_type": "markdown",
   "metadata": {},
   "source": [
    "#### Fit the model"
   ]
  },
  {
   "cell_type": "code",
   "execution_count": 18,
   "metadata": {},
   "outputs": [
    {
     "name": "stdout",
     "output_type": "stream",
     "text": [
      "Train on 60000 samples\n",
      "Epoch 1/3\n",
      "60000/60000 [==============================] - 63s 1ms/sample - loss: 0.5687 - sparse_categorical_accuracy: 0.7993 - mean_absolute_error: 4.4200\n",
      "Epoch 2/3\n",
      "60000/60000 [==============================] - 54s 893us/sample - loss: 0.3694 - sparse_categorical_accuracy: 0.8673 - mean_absolute_error: 4.4200\n",
      "Epoch 3/3\n",
      "60000/60000 [==============================] - 51s 850us/sample - loss: 0.3383 - sparse_categorical_accuracy: 0.8783 - mean_absolute_error: 4.4200\n"
     ]
    }
   ],
   "source": [
    "# Fit the model\n",
    "\n",
    "history = model.fit(train_images[...,np.newaxis],train_labels, epochs = 3, batch_size = 256)"
   ]
  },
  {
   "cell_type": "markdown",
   "metadata": {},
   "source": [
    "#### Plot training history"
   ]
  },
  {
   "cell_type": "code",
   "execution_count": 19,
   "metadata": {},
   "outputs": [
    {
     "data": {
      "text/html": [
       "<div>\n",
       "<style scoped>\n",
       "    .dataframe tbody tr th:only-of-type {\n",
       "        vertical-align: middle;\n",
       "    }\n",
       "\n",
       "    .dataframe tbody tr th {\n",
       "        vertical-align: top;\n",
       "    }\n",
       "\n",
       "    .dataframe thead th {\n",
       "        text-align: right;\n",
       "    }\n",
       "</style>\n",
       "<table border=\"1\" class=\"dataframe\">\n",
       "  <thead>\n",
       "    <tr style=\"text-align: right;\">\n",
       "      <th></th>\n",
       "      <th>loss</th>\n",
       "      <th>sparse_categorical_accuracy</th>\n",
       "      <th>mean_absolute_error</th>\n",
       "    </tr>\n",
       "  </thead>\n",
       "  <tbody>\n",
       "    <tr>\n",
       "      <th>0</th>\n",
       "      <td>0.568667</td>\n",
       "      <td>0.799333</td>\n",
       "      <td>4.420000</td>\n",
       "    </tr>\n",
       "    <tr>\n",
       "      <th>1</th>\n",
       "      <td>0.369378</td>\n",
       "      <td>0.867283</td>\n",
       "      <td>4.419999</td>\n",
       "    </tr>\n",
       "    <tr>\n",
       "      <th>2</th>\n",
       "      <td>0.338288</td>\n",
       "      <td>0.878300</td>\n",
       "      <td>4.420000</td>\n",
       "    </tr>\n",
       "  </tbody>\n",
       "</table>\n",
       "</div>"
      ],
      "text/plain": [
       "       loss  sparse_categorical_accuracy  mean_absolute_error\n",
       "0  0.568667                     0.799333             4.420000\n",
       "1  0.369378                     0.867283             4.419999\n",
       "2  0.338288                     0.878300             4.420000"
      ]
     },
     "execution_count": 19,
     "metadata": {},
     "output_type": "execute_result"
    }
   ],
   "source": [
    "# Load the history into a pandas Dataframe\n",
    "\n",
    "df = pd.DataFrame(history.history)\n",
    "df.head()"
   ]
  },
  {
   "cell_type": "code",
   "execution_count": 20,
   "metadata": {},
   "outputs": [
    {
     "data": {
      "text/plain": [
       "[Text(0, 0.5, 'Loss'), Text(0.5, 0, 'Epochs')]"
      ]
     },
     "execution_count": 20,
     "metadata": {},
     "output_type": "execute_result"
    },
    {
     "data": {
      "image/png": "[encoded data removed]",
      "text/plain": [
       "<Figure size 432x288 with 1 Axes>"
      ]
     },
     "metadata": {
      "needs_background": "light"
     },
     "output_type": "display_data"
    }
   ],
   "source": [
    "# Make a plot for the loss\n",
    "\n",
    "loss_plot = df.plot(y = 'loss', title = 'Loss vs. Epochs', legend = False)\n",
    "loss_plot.set(xlabel = 'Epochs', ylabel = 'Loss')"
   ]
  },
  {
   "cell_type": "code",
   "execution_count": 21,
   "metadata": {},
   "outputs": [
    {
     "data": {
      "text/plain": [
       "[Text(0, 0.5, 'Sparse categorical accuracy'), Text(0.5, 0, 'Epochs')]"
      ]
     },
     "execution_count": 21,
     "metadata": {},
     "output_type": "execute_result"
    },
    {
     "data": {
      "image/png": "[encoded data removed]",
      "text/plain": [
       "<Figure size 432x288 with 1 Axes>"
      ]
     },
     "metadata": {
      "needs_background": "light"
     },
     "output_type": "display_data"
    }
   ],
   "source": [
    "# Make a plot for the accuracy\n",
    "\n",
    "acc_plot = df.plot(y = 'sparse_categorical_accuracy', title = 'Accuracy vs. Epochs', legend = False)\n",
    "acc_plot.set(xlabel = 'Epochs', ylabel = 'Sparse categorical accuracy')"
   ]
  },
  {
   "cell_type": "code",
   "execution_count": 22,
   "metadata": {},
   "outputs": [
    {
     "data": {
      "text/plain": [
       "[Text(0, 0.5, 'MAE'), Text(0.5, 0, 'Epochs')]"
      ]
     },
     "execution_count": 22,
     "metadata": {},
     "output_type": "execute_result"
    },
    {
     "data": {
      "image/png": "[encoded data removed]",
      "text/plain": [
       "<Figure size 432x288 with 1 Axes>"
      ]
     },
     "metadata": {
      "needs_background": "light"
     },
     "output_type": "display_data"
    }
   ],
   "source": [
    "# Make a plot for the additional metric\n",
    "\n",
    "acc_plot = df.plot(y = 'mean_absolute_error', title = 'MAE vs. Epochs', legend = False)\n",
    "acc_plot.set(xlabel = 'Epochs', ylabel = 'MAE')"
   ]
  },
  {
   "cell_type": "markdown",
   "metadata": {},
   "source": [
    "***\n",
    "<a id=\"coding_tutorial_5\"></a>\n",
    "## The evaluate and predict methods"
   ]
  },
  {
   "cell_type": "code",
   "execution_count": 27,
   "metadata": {},
   "outputs": [],
   "source": [
    "import matplotlib.pyplot as plt\n",
    "import numpy as np"
   ]
  },
  {
   "cell_type": "markdown",
   "metadata": {},
   "source": [
    "#### Evaluate the model on the test set"
   ]
  },
  {
   "cell_type": "code",
   "execution_count": 29,
   "metadata": {},
   "outputs": [
    {
     "name": "stdout",
     "output_type": "stream",
     "text": [
      "10000/1 - 7s - loss: 0.2585 - sparse_categorical_accuracy: 0.8638 - mean_absolute_error: 4.4200\n"
     ]
    },
    {
     "data": {
      "text/plain": [
       "[0.37425863778591156, 0.8638, 4.419997]"
      ]
     },
     "execution_count": 29,
     "metadata": {},
     "output_type": "execute_result"
    }
   ],
   "source": [
    "# Evaluate the model\n",
    "\n",
    "model.evaluate(test_images[..., np.newaxis], test_labels, verbose = 2)"
   ]
  },
  {
   "cell_type": "markdown",
   "metadata": {},
   "source": [
    "#### Make predictions from the model"
   ]
  },
  {
   "cell_type": "code",
   "execution_count": 72,
   "metadata": {},
   "outputs": [
    {
     "data": {
      "image/png": "[encoded data removed]",
      "text/plain": [
       "<Figure size 432x288 with 1 Axes>"
      ]
     },
     "metadata": {
      "needs_background": "light"
     },
     "output_type": "display_data"
    },
    {
     "name": "stdout",
     "output_type": "stream",
     "text": [
      "Label: Ankle boot\n"
     ]
    }
   ],
   "source": [
    "# Choose a random test image\n",
    "\n",
    "random_inx = np.random.choice(test_images.shape[0])\n",
    "\n",
    "test_image = test_images[random_inx]\n",
    "plt.imshow(test_image)\n",
    "plt.show()\n",
    "print(f\"Label: {labels[test_labels[random_inx]]}\")"
   ]
  },
  {
   "cell_type": "code",
   "execution_count": 73,
   "metadata": {},
   "outputs": [
    {
     "name": "stdout",
     "output_type": "stream",
     "text": [
      "Model prediction: Ankle boot\n"
     ]
    }
   ],
   "source": [
    "# Get the model predictions\n",
    "\n",
    "predictions = model.predict(test_image[np.newaxis,...,np.newaxis])\n",
    "print(f'Model prediction: {labels[np.argmax(predictions)]}')"
   ]
  },
  {
   "cell_type": "code",
   "execution_count": 74,
   "metadata": {},
   "outputs": [
    {
     "data": {
      "text/html": [
       "<div>\n",
       "<style scoped>\n",
       "    .dataframe tbody tr th:only-of-type {\n",
       "        vertical-align: middle;\n",
       "    }\n",
       "\n",
       "    .dataframe tbody tr th {\n",
       "        vertical-align: top;\n",
       "    }\n",
       "\n",
       "    .dataframe thead th {\n",
       "        text-align: right;\n",
       "    }\n",
       "</style>\n",
       "<table border=\"1\" class=\"dataframe\">\n",
       "  <thead>\n",
       "    <tr style=\"text-align: right;\">\n",
       "      <th></th>\n",
       "      <th>0</th>\n",
       "      <th>1</th>\n",
       "    </tr>\n",
       "  </thead>\n",
       "  <tbody>\n",
       "    <tr>\n",
       "      <th>0</th>\n",
       "      <td>T-shirt/top</td>\n",
       "      <td>0.0000</td>\n",
       "    </tr>\n",
       "    <tr>\n",
       "      <th>1</th>\n",
       "      <td>Trouser</td>\n",
       "      <td>0.0000</td>\n",
       "    </tr>\n",
       "    <tr>\n",
       "      <th>2</th>\n",
       "      <td>Pullover</td>\n",
       "      <td>0.0000</td>\n",
       "    </tr>\n",
       "    <tr>\n",
       "      <th>3</th>\n",
       "      <td>Dress</td>\n",
       "      <td>0.0000</td>\n",
       "    </tr>\n",
       "    <tr>\n",
       "      <th>4</th>\n",
       "      <td>Coat</td>\n",
       "      <td>0.0000</td>\n",
       "    </tr>\n",
       "    <tr>\n",
       "      <th>5</th>\n",
       "      <td>Sandal</td>\n",
       "      <td>0.0017</td>\n",
       "    </tr>\n",
       "    <tr>\n",
       "      <th>6</th>\n",
       "      <td>Shirt</td>\n",
       "      <td>0.0000</td>\n",
       "    </tr>\n",
       "    <tr>\n",
       "      <th>7</th>\n",
       "      <td>Sneaker</td>\n",
       "      <td>0.0163</td>\n",
       "    </tr>\n",
       "    <tr>\n",
       "      <th>8</th>\n",
       "      <td>Bag</td>\n",
       "      <td>0.0001</td>\n",
       "    </tr>\n",
       "    <tr>\n",
       "      <th>9</th>\n",
       "      <td>Ankle boot</td>\n",
       "      <td>0.9819</td>\n",
       "    </tr>\n",
       "  </tbody>\n",
       "</table>\n",
       "</div>"
      ],
      "text/plain": [
       "             0       1\n",
       "0  T-shirt/top  0.0000\n",
       "1      Trouser  0.0000\n",
       "2     Pullover  0.0000\n",
       "3        Dress  0.0000\n",
       "4         Coat  0.0000\n",
       "5       Sandal  0.0017\n",
       "6        Shirt  0.0000\n",
       "7      Sneaker  0.0163\n",
       "8          Bag  0.0001\n",
       "9   Ankle boot  0.9819"
      ]
     },
     "execution_count": 74,
     "metadata": {},
     "output_type": "execute_result"
    }
   ],
   "source": [
    "pd.concat([pd.Series(labels), pd.Series(predictions[0]).round(4)],axis = 1)"
   ]
  }
 ],
 "metadata": {
  "kernelspec": {
   "display_name": "Python 3",
   "language": "python",
   "name": "python3"
  },
  "language_info": {
   "codemirror_mode": {
    "name": "ipython",
    "version": 3
   },
   "file_extension": ".py",
   "mimetype": "text/x-python",
   "name": "python",
   "nbconvert_exporter": "python",
   "pygments_lexer": "ipython3",
   "version": "3.7.1"
  }
 },
 "nbformat": 4,
 "nbformat_minor": 2
}
